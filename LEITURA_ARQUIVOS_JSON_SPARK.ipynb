{
  "nbformat": 4,
  "nbformat_minor": 0,
  "metadata": {
    "colab": {
      "provenance": []
    },
    "kernelspec": {
      "name": "python3",
      "display_name": "Python 3"
    },
    "language_info": {
      "name": "python"
    }
  },
  "cells": [
    {
      "cell_type": "markdown",
      "source": [
        "-------------------------------------------------------------------------\n",
        "*   PONTIFÍCIA UNIVERSIDADE CATÓLICA DE MINAS GERAIS\n",
        "*   PROFESSOR: VICTOR SALES SILVA\n",
        "*   ALUNO: **<INSERIR CÓDIGO DE PESSOA OU MATRÍCULA>***\n",
        "*   ATIVIDADE: EXEMPLO DE LEITURA DE ARQUIVO EM FORMATO JSON UTILIZANDO SPARK\n",
        "-------------------------------------------------------------------------"
      ],
      "metadata": {
        "id": "gQ8VpCslmcXk"
      }
    },
    {
      "cell_type": "markdown",
      "source": [
        "# INSTALAÇÃO DAS BIBLIOTECAS"
      ],
      "metadata": {
        "id": "amvlB1KQmlNp"
      }
    },
    {
      "cell_type": "code",
      "execution_count": null,
      "metadata": {
        "id": "wTNx5CCjmXLf"
      },
      "outputs": [],
      "source": [
        "pip install pyspark"
      ]
    },
    {
      "cell_type": "markdown",
      "source": [
        "# IMPORTAÇÃO DAS BIBLIOTECAS"
      ],
      "metadata": {
        "id": "KWlHXyJCmkwl"
      }
    },
    {
      "cell_type": "code",
      "source": [
        "from pyspark.sql import SparkSession"
      ],
      "metadata": {
        "id": "L4zAhn9rmtLA"
      },
      "execution_count": null,
      "outputs": []
    },
    {
      "cell_type": "markdown",
      "source": [
        "# CRIANDO A SESSÃO SPARK"
      ],
      "metadata": {
        "id": "4IMjeEvymuL4"
      }
    },
    {
      "cell_type": "code",
      "source": [
        "spark = SparkSession.builder.getOrCreate()"
      ],
      "metadata": {
        "id": "LZODabvLmtvF"
      },
      "execution_count": null,
      "outputs": []
    },
    {
      "cell_type": "markdown",
      "source": [
        "# VARIÁVEIS DE APOIO"
      ],
      "metadata": {
        "id": "Msq5MLLpm1_Z"
      }
    },
    {
      "cell_type": "code",
      "source": [
        "arquivo = 'DADOS_ESTUDANTES.json'\n",
        "\n",
        "options = {\n",
        "    \"encoding\": \"Latin1\",\n",
        "    \"multiline\": \"true\"\n",
        "}"
      ],
      "metadata": {
        "id": "gOGAdE0Nm3Vd"
      },
      "execution_count": null,
      "outputs": []
    },
    {
      "cell_type": "markdown",
      "source": [
        "# LEITURA DO ARQUIVO JSON USANDO SPARK"
      ],
      "metadata": {
        "id": "tHpw5g5YnEZP"
      }
    },
    {
      "cell_type": "code",
      "source": [
        "df = spark.read.options(**options).json(arquivo)"
      ],
      "metadata": {
        "id": "RpLbV91BnGUV"
      },
      "execution_count": null,
      "outputs": []
    },
    {
      "cell_type": "markdown",
      "source": [
        "# EXIBINDO OS DADOS"
      ],
      "metadata": {
        "id": "bEjcojWtnkT_"
      }
    },
    {
      "cell_type": "code",
      "source": [
        "df.show()"
      ],
      "metadata": {
        "id": "pVz6yqs2napA"
      },
      "execution_count": null,
      "outputs": []
    },
    {
      "cell_type": "markdown",
      "source": [
        "# EXIBIÇÃO DOS METADADOS DOS ARQUIVOS"
      ],
      "metadata": {
        "id": "x4bCtyIInlm1"
      }
    },
    {
      "cell_type": "code",
      "source": [
        "df.printSchema()"
      ],
      "metadata": {
        "id": "zzjRFHL2na5-"
      },
      "execution_count": null,
      "outputs": []
    }
  ]
}
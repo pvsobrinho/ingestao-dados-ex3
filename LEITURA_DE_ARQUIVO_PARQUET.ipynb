{
  "nbformat": 4,
  "nbformat_minor": 0,
  "metadata": {
    "colab": {
      "provenance": []
    },
    "kernelspec": {
      "name": "python3",
      "display_name": "Python 3"
    },
    "language_info": {
      "name": "python"
    }
  },
  "cells": [
    {
      "cell_type": "code",
      "execution_count": null,
      "metadata": {
        "id": "nbzBMwBF5Ani"
      },
      "outputs": [],
      "source": [
        "pip install pyspark"
      ]
    },
    {
      "cell_type": "code",
      "source": [
        "from pyspark.sql import SparkSession\n",
        "from pyspark.sql.types import TimestampType, IntegerType, StringType, DoubleType\n",
        "from pyspark.sql.functions import col"
      ],
      "metadata": {
        "id": "gVbggMM45JER"
      },
      "execution_count": null,
      "outputs": []
    },
    {
      "cell_type": "code",
      "source": [
        "spark = SparkSession.builder.getOrCreate()"
      ],
      "metadata": {
        "id": "rVkGFv8t5Lh1"
      },
      "execution_count": null,
      "outputs": []
    },
    {
      "cell_type": "code",
      "source": [
        "arquivo = 'DADOS_VOOS.parquet'"
      ],
      "metadata": {
        "id": "CybBVHq76DVr"
      },
      "execution_count": null,
      "outputs": []
    },
    {
      "cell_type": "markdown",
      "source": [
        "# MÉTODO PARA VISUALIZAR ARQUIVO EM FORMATO .PARQUET"
      ],
      "metadata": {
        "id": "jr9MYWiC5szi"
      }
    },
    {
      "cell_type": "code",
      "source": [
        "df_dados_voos = spark.read.format('parquet').options(header=True, inferSchema=True).load(arquivo)"
      ],
      "metadata": {
        "id": "SgDw3hjM5qow"
      },
      "execution_count": null,
      "outputs": []
    },
    {
      "cell_type": "markdown",
      "source": [
        "# EXIBINDO UMA AMOSTRA DOS ARQUIVOS"
      ],
      "metadata": {
        "id": "liVu5Wgy625T"
      }
    },
    {
      "cell_type": "code",
      "source": [
        "df_dados_voos.show()"
      ],
      "metadata": {
        "id": "zfYeRZUf6NNY"
      },
      "execution_count": null,
      "outputs": []
    },
    {
      "cell_type": "markdown",
      "source": [
        "# EXIBIR OS METADADOS DO ARQUIVO"
      ],
      "metadata": {
        "id": "ytCxbGl666bH"
      }
    },
    {
      "cell_type": "code",
      "source": [
        "df_dados_voos.printSchema()"
      ],
      "metadata": {
        "id": "YoPZ49yW6QT2"
      },
      "execution_count": null,
      "outputs": []
    },
    {
      "cell_type": "markdown",
      "source": [
        "# AJUSTAR O SCHEMA DOS DADOS, SE NECESSÁRIO"
      ],
      "metadata": {
        "id": "sNNdNoVm7SQx"
      }
    },
    {
      "cell_type": "code",
      "source": [
        "df_dados_voos = df_dados_voos.withColumn('departure_time', col('departure_time').astype(TimestampType()))\n",
        "df_dados_voos = df_dados_voos.withColumn('arrival_time', col('arrival_time').astype(TimestampType()))"
      ],
      "metadata": {
        "id": "kBZdD-Mn7BG_"
      },
      "execution_count": null,
      "outputs": []
    }
  ]
}
{
  "nbformat": 4,
  "nbformat_minor": 0,
  "metadata": {
    "colab": {
      "provenance": []
    },
    "kernelspec": {
      "name": "python3",
      "display_name": "Python 3"
    },
    "language_info": {
      "name": "python"
    }
  },
  "cells": [
    {
      "cell_type": "markdown",
      "source": [
        "-------------------------------------------------------------------------\n",
        "*   PONTIFÍCIA UNIVERSIDADE CATÓLICA DE MINAS GERAIS\n",
        "*   PROFESSOR: VICTOR SALES SILVA\n",
        "*   ALUNO: **<INSERIR CÓDIGO DE PESSOA OU MATRÍCULA>***\n",
        "*   ATIVIDADE: EXEMPLO DE LEITURA DE ARQUIVO EM FORMATO JSON UTILIZANDO PANDAS\n",
        "-------------------------------------------------------------------------"
      ],
      "metadata": {
        "id": "rQ_kAurcRfE4"
      }
    },
    {
      "cell_type": "markdown",
      "source": [
        "# IMPORTAÇÃO DAS BIBLIOTECAS"
      ],
      "metadata": {
        "id": "tDp_PeDVRlAC"
      }
    },
    {
      "cell_type": "code",
      "execution_count": null,
      "metadata": {
        "id": "m7vtlpXMReiu"
      },
      "outputs": [],
      "source": [
        "import pandas as pd"
      ]
    },
    {
      "cell_type": "markdown",
      "source": [
        "# DEFINIÇÃO DE VARIÁVEIS AUXILIARES"
      ],
      "metadata": {
        "id": "T-zsoTD3Sa-m"
      }
    },
    {
      "cell_type": "code",
      "source": [
        "arquivo = 'DADOS_ESTUDANTES.json'"
      ],
      "metadata": {
        "id": "RO3IeXNESbju"
      },
      "execution_count": null,
      "outputs": []
    },
    {
      "cell_type": "markdown",
      "source": [
        "# LEITURA DO ARQUIVO"
      ],
      "metadata": {
        "id": "sLxP_LkJRsdn"
      }
    },
    {
      "cell_type": "code",
      "source": [
        "# Lê o conteúdo do arquivo JSON\n",
        "try:\n",
        "  with open(arquivo, \"r\", encoding=\"UTF-8\") as file:\n",
        "      json_content = file.read()\n",
        "except UnicodeDecodeError:\n",
        "  with open(arquivo, \"r\", encoding=\"Latin-1\") as file:\n",
        "      json_content = file.read()"
      ],
      "metadata": {
        "id": "b3aQ3q2yRrN5"
      },
      "execution_count": null,
      "outputs": []
    },
    {
      "cell_type": "markdown",
      "source": [
        "# TRATA QUEBRAS DE LINHAS NO ARQUIVO"
      ],
      "metadata": {
        "id": "v1-_WSlIT9AR"
      }
    },
    {
      "cell_type": "code",
      "source": [
        "# Remove as quebras de linha (\\n)\n",
        "json_content = json_content.replace(\"\\n\", \"\")"
      ],
      "metadata": {
        "id": "_kGyHrdrUBSk"
      },
      "execution_count": null,
      "outputs": []
    },
    {
      "cell_type": "markdown",
      "source": [
        "# CRIAÇÃO DE DATAFRAME"
      ],
      "metadata": {
        "id": "-mHIQ2ErUGvm"
      }
    },
    {
      "cell_type": "code",
      "source": [
        "df = pd.read_json(json_content)"
      ],
      "metadata": {
        "id": "J62C0pEMUGNG"
      },
      "execution_count": null,
      "outputs": []
    },
    {
      "cell_type": "markdown",
      "source": [
        "# EXIBINDO OS DADOS"
      ],
      "metadata": {
        "id": "_1VcZZaTR0TU"
      }
    },
    {
      "cell_type": "code",
      "source": [
        "df"
      ],
      "metadata": {
        "id": "OUeo2S_8R0jO"
      },
      "execution_count": null,
      "outputs": []
    },
    {
      "cell_type": "markdown",
      "source": [
        "# EXIBIÇÃO DOS METADADOS DOS ARQUIVOS"
      ],
      "metadata": {
        "id": "ULMHWxihl961"
      }
    },
    {
      "cell_type": "code",
      "source": [
        "df.info()"
      ],
      "metadata": {
        "id": "gMQSeec7TbKV"
      },
      "execution_count": null,
      "outputs": []
    }
  ]
}
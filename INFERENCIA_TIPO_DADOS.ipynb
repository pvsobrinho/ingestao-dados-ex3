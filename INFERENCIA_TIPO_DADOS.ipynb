{
  "nbformat": 4,
  "nbformat_minor": 0,
  "metadata": {
    "colab": {
      "provenance": []
    },
    "kernelspec": {
      "name": "python3",
      "display_name": "Python 3"
    },
    "language_info": {
      "name": "python"
    }
  },
  "cells": [
    {
      "cell_type": "markdown",
      "source": [
        "-------------------------------------------------------------------------\n",
        "*   PONTIFÍCIA UNIVERSIDADE CATÓLICA DE MINAS GERAIS\n",
        "*   PROFESSOR: VICTOR SALES SILVA\n",
        "*   ALUNO: **<INSERIR CÓDIGO DE PESSOA OU MATRÍCULA>***   \n",
        "*   ATIVIDADE: EXEMPLO DE INFERÊNCIA DE SCHEMA DE DADOS UTILIZANDO PANDAS\n",
        "-------------------------------------------------------------------------"
      ],
      "metadata": {
        "id": "nPH_YPHnf-Nu"
      }
    },
    {
      "cell_type": "markdown",
      "source": [
        "# IMPORTAÇÃO DAS BIBLIOTECAS"
      ],
      "metadata": {
        "id": "qNO46GL5gDKA"
      }
    },
    {
      "cell_type": "code",
      "execution_count": null,
      "metadata": {
        "id": "NqIL7WIAfcWm"
      },
      "outputs": [],
      "source": [
        "import pandas as pd"
      ]
    },
    {
      "cell_type": "markdown",
      "source": [
        "# DEFINIÇÃO DE VARIÁVEIS AUXILIARES"
      ],
      "metadata": {
        "id": "pGFMI6iVgFJJ"
      }
    },
    {
      "cell_type": "code",
      "source": [
        "lista_url = ()"
      ],
      "metadata": {
        "id": "bRl6K97Sj1ak"
      },
      "execution_count": null,
      "outputs": []
    },
    {
      "cell_type": "markdown",
      "source": [
        "# LEITURA DOS DATAFRAMES"
      ],
      "metadata": {
        "id": "4WbnLrdKgG4P"
      }
    },
    {
      "cell_type": "code",
      "source": [
        "url_olist_orders_dataset = ''\n",
        "df_olist_orders_dataset = pd.read_csv(url_olist_orders_dataset)\n",
        "url_olist_customers_dataset = ''\n",
        "df_olist_customers_dataset = pd.read_csv(url_olist_customers_dataset)\n",
        "url_olist_order_reviews_dataset = ''\n",
        "df_olist_order_reviews_dataset = pd.read_csv (url_olist_order_reviews_dataset)"
      ],
      "metadata": {
        "id": "N0DVArfWgC1B"
      },
      "execution_count": null,
      "outputs": []
    },
    {
      "cell_type": "markdown",
      "source": [
        "# EXIBIÇÃO DOS METADADOS DOS ARQUIVOS"
      ],
      "metadata": {
        "id": "-H_M2KLcgIh-"
      }
    },
    {
      "cell_type": "code",
      "source": [
        "df_olist_orders_dataset.info()"
      ],
      "metadata": {
        "id": "LmUR55Gdgfdf"
      },
      "execution_count": null,
      "outputs": []
    },
    {
      "cell_type": "code",
      "source": [
        "df_olist_customers_dataset.info()"
      ],
      "metadata": {
        "id": "m7SV4pMAjkpl"
      },
      "execution_count": null,
      "outputs": []
    },
    {
      "cell_type": "code",
      "source": [
        "df_olist_order_reviews_dataset.info()"
      ],
      "metadata": {
        "id": "YTFdivAEjnyD"
      },
      "execution_count": null,
      "outputs": []
    },
    {
      "cell_type": "markdown",
      "source": [
        "# EXIBIÇÃO DE AMOSTRA DOS ARQUIVOS"
      ],
      "metadata": {
        "id": "AEs2h1tDgLB9"
      }
    },
    {
      "cell_type": "code",
      "source": [],
      "metadata": {
        "id": "uxTV37Txjr8z"
      },
      "execution_count": null,
      "outputs": []
    },
    {
      "cell_type": "markdown",
      "source": [
        "# AJUSTANDO O SCHEMA DOS DADOS"
      ],
      "metadata": {
        "id": "aGcq8RlbgNB-"
      }
    },
    {
      "cell_type": "code",
      "source": [],
      "metadata": {
        "id": "t_sgqs3ugOVf"
      },
      "execution_count": null,
      "outputs": []
    }
  ]
}